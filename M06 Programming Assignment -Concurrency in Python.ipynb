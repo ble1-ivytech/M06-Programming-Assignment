{
 "cells": [
  {
   "cell_type": "markdown",
   "id": "defb1f38",
   "metadata": {},
   "source": [
    "---\n",
    "Notebook 13.1\n",
    "---"
   ]
  },
  {
   "cell_type": "code",
   "execution_count": 135,
   "id": "a562724b",
   "metadata": {},
   "outputs": [
    {
     "name": "stdout",
     "output_type": "stream",
     "text": [
      "time.struct_time(tm_year=2022, tm_mon=11, tm_mday=30, tm_hour=0, tm_min=13, tm_sec=44, tm_wday=2, tm_yday=334, tm_isdst=0)\n"
     ]
    }
   ],
   "source": [
    "import time\n",
    "t = time.localtime()\n",
    "print(t)\n",
    "\n",
    "file1 = open(\"today.txt\", \"w\")\n",
    "data1 = [t]\n",
    "\n",
    "file1.write(\"\")\n",
    "file1.writelines(str(data1))\n",
    "file1.close()"
   ]
  },
  {
   "cell_type": "markdown",
   "id": "bea20128",
   "metadata": {},
   "source": [
    "---\n",
    "Notebook 13.2\n",
    "---"
   ]
  },
  {
   "cell_type": "code",
   "execution_count": 34,
   "id": "b282a7db",
   "metadata": {},
   "outputs": [
    {
     "data": {
      "text/plain": [
       "'[time.struct_time(tm_year=2022, tm_mon=11, tm_mday=30, tm_hour=0, tm_min=13, tm_sec=44, tm_wday=2, tm_yday=334, tm_isdst=0)]'"
      ]
     },
     "execution_count": 34,
     "metadata": {},
     "output_type": "execute_result"
    }
   ],
   "source": [
    "f = open('today.txt', 'r')\n",
    "today_string = f.readline()\n",
    "today_string"
   ]
  },
  {
   "cell_type": "markdown",
   "id": "83c88c80",
   "metadata": {},
   "source": [
    "---\n",
    "Notebook 13.3\n",
    "---"
   ]
  },
  {
   "cell_type": "code",
   "execution_count": 149,
   "id": "9ab9b3cb",
   "metadata": {},
   "outputs": [
    {
     "data": {
      "text/plain": [
       "\"It's Wednesday, November 30, 2022, local time 12:17:36AM\""
      ]
     },
     "execution_count": 149,
     "metadata": {},
     "output_type": "execute_result"
    }
   ],
   "source": [
    "import time\n",
    "fmt = \"It's %A, %B %d, %Y, local time %I:%M:%S%p\"\n",
    "t = time.localtime()\n",
    "time.strftime(fmt, t)"
   ]
  },
  {
   "cell_type": "markdown",
   "id": "4381b630",
   "metadata": {},
   "source": [
    "---\n",
    "Notebook 15.1\n",
    "---\n",
    "Note: I am unsure if I completed this section correctly, so please let me know if I need to make any changes."
   ]
  },
  {
   "cell_type": "code",
   "execution_count": 90,
   "id": "e9877586",
   "metadata": {
    "scrolled": false
   },
   "outputs": [
    {
     "name": "stdout",
     "output_type": "stream",
     "text": [
      "---It took 0.4701 seconds to complete task---\n",
      "It's Friday, December 02, 2022, local time 12:43:16.574609AM.\n",
      "---It took 0.6016 seconds to complete task---\n",
      "It's Friday, December 02, 2022, local time 12:43:17.044671AM.\n",
      "---It took 0.8487 seconds to complete task---\n",
      "It's Friday, December 02, 2022, local time 12:43:17.646233AM.\n",
      "Program successfully ended!\n"
     ]
    }
   ],
   "source": [
    "import multiprocessing, datetime\n",
    "\n",
    "def get_time(name):\n",
    "    for num in range(3):\n",
    "        fmt = \"%A, %B %d, %Y, local time %I:%M:%S.%f%p\"\n",
    "        t = datetime.datetime.now()\n",
    "        dt = t.strftime(fmt)\n",
    "        \n",
    "        start_time = time.time()\n",
    "        time.sleep(random.uniform(0,1))\n",
    "        print(\"---It took {:0.4f}\".format(time.time() - start_time),\n",
    "              \"seconds to complete task---\")\n",
    "        print(\"It's {}.\".format(dt))\n",
    "        \n",
    "if __name__ == '__main__':\n",
    "    get_time(\"main\")\n",
    "    p = multiprocessing.Process(target=get_time)\n",
    "    p.start()\n",
    "    p.terminate()\n",
    "    print(\"Program successfully ended!\")"
   ]
  }
 ],
 "metadata": {
  "kernelspec": {
   "display_name": "Python 3 (ipykernel)",
   "language": "python",
   "name": "python3"
  },
  "language_info": {
   "codemirror_mode": {
    "name": "ipython",
    "version": 3
   },
   "file_extension": ".py",
   "mimetype": "text/x-python",
   "name": "python",
   "nbconvert_exporter": "python",
   "pygments_lexer": "ipython3",
   "version": "3.9.12"
  }
 },
 "nbformat": 4,
 "nbformat_minor": 5
}
